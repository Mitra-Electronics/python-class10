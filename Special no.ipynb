{
 "cells": [
  {
   "cell_type": "code",
   "execution_count": null,
   "id": "a879f51c-96c2-4f82-9db8-201f625beb39",
   "metadata": {},
   "outputs": [],
   "source": [
    "n = int(input(\"Enter a number: \"))\n",
    "cp=n\n",
    "a = 0\n",
    "while cp > 0:\n",
    "    d = cp % 10\n",
    "    a += d**3\n",
    "    cp //=10\n",
    "if n == a:\n",
    "    print(\"Armstrong no\")\n",
    "else:\n",
    "    print(\"Not armstrong no\")"
   ]
  },
  {
   "cell_type": "code",
   "execution_count": null,
   "id": "7a223c87-26ba-4b4e-b33c-be21e1ec12e8",
   "metadata": {},
   "outputs": [],
   "source": [
    "n = int(input(\"Enter a number: \"))\n",
    "cp=n\n",
    "a = 0\n",
    "while cp > 0:\n",
    "    d = cp % 10\n",
    "    a = a*10 + d\n",
    "    cp //=10\n",
    "if n == a:\n",
    "    print(\"Palindrome no\")\n",
    "else:\n",
    "    print(\"Not palindrome no\")"
   ]
  }
 ],
 "metadata": {
  "kernelspec": {
   "display_name": "Python 3 (ipykernel)",
   "language": "python",
   "name": "python3"
  },
  "language_info": {
   "codemirror_mode": {
    "name": "ipython",
    "version": 3
   },
   "file_extension": ".py",
   "mimetype": "text/x-python",
   "name": "python",
   "nbconvert_exporter": "python",
   "pygments_lexer": "ipython3",
   "version": "3.12.1"
  }
 },
 "nbformat": 4,
 "nbformat_minor": 5
}
