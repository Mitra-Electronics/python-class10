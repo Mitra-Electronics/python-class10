{
 "cells": [
  {
   "cell_type": "code",
   "execution_count": 2,
   "id": "3b4307ed-04ab-437c-85a0-160f9f136fe1",
   "metadata": {},
   "outputs": [],
   "source": [
    "import pandas as pd\n",
    "import numpy as np"
   ]
  },
  {
   "cell_type": "code",
   "execution_count": 3,
   "id": "bd7a57bc-abfa-4eb3-93ad-bb98c1185ccb",
   "metadata": {},
   "outputs": [
    {
     "name": "stdout",
     "output_type": "stream",
     "text": [
      "0    10\n",
      "1    20\n",
      "2    30\n",
      "3    40\n",
      "4    50\n",
      "5    60\n",
      "dtype: int64\n"
     ]
    }
   ],
   "source": [
    "s = pd.Series([10,20,30,40,50,60])\n",
    "print(s)"
   ]
  },
  {
   "cell_type": "code",
   "execution_count": 4,
   "id": "5d724e0a-f948-4edb-9f12-cc3fd1c0bb45",
   "metadata": {},
   "outputs": [
    {
     "name": "stdout",
     "output_type": "stream",
     "text": [
      "a    10\n",
      "b    20\n",
      "c    30\n",
      "d    40\n",
      "e    50\n",
      "f    60\n",
      "dtype: int64\n"
     ]
    }
   ],
   "source": [
    "s = pd.Series([10,20,30,40,50,60], index=['a','b','c','d','e','f'])\n",
    "print(s)"
   ]
  },
  {
   "cell_type": "code",
   "execution_count": 5,
   "id": "be8bb528-ce7f-421c-80c7-6e107fa840b3",
   "metadata": {},
   "outputs": [
    {
     "name": "stdout",
     "output_type": "stream",
     "text": [
      "0    10\n",
      "1    20\n",
      "2    30\n",
      "dtype: int64\n",
      "[10 20 30 40 50 60]\n",
      "6\n",
      "False\n"
     ]
    }
   ],
   "source": [
    "s = pd.Series([10,20,30,40,50,60])\n",
    "print(s.iloc[0:3])\n",
    "print(s.values)\n",
    "print(s.size)\n",
    "print(s.empty)"
   ]
  },
  {
   "cell_type": "code",
   "execution_count": 6,
   "id": "3fef6935-6df0-4168-8b3a-9450654cd335",
   "metadata": {},
   "outputs": [
    {
     "name": "stdout",
     "output_type": "stream",
     "text": [
      "[None None]\n",
      "2\n",
      "False\n"
     ]
    }
   ],
   "source": [
    "d = pd.Series([None,None])\n",
    "print(d.values)\n",
    "print(d.size)\n",
    "print(d.empty)"
   ]
  },
  {
   "cell_type": "code",
   "execution_count": 7,
   "id": "3901c025-f96e-45a6-b07e-0537e0f6cba9",
   "metadata": {},
   "outputs": [
    {
     "name": "stdout",
     "output_type": "stream",
     "text": [
      "[nan nan]\n",
      "2\n",
      "False\n"
     ]
    }
   ],
   "source": [
    "d = pd.Series([np.nan, np.nan])\n",
    "print(d.values)\n",
    "print(d.size)\n",
    "print(d.empty)"
   ]
  },
  {
   "cell_type": "code",
   "execution_count": 8,
   "id": "679d3834-bf09-4b36-b6f2-d701db6b4ff4",
   "metadata": {},
   "outputs": [
    {
     "name": "stdout",
     "output_type": "stream",
     "text": [
      "[]\n",
      "0\n",
      "True\n"
     ]
    }
   ],
   "source": [
    "d = pd.Series()\n",
    "print(d.values)\n",
    "print(d.size)\n",
    "print(d.empty)"
   ]
  },
  {
   "cell_type": "code",
   "execution_count": 9,
   "id": "e18bbc34-1f4d-44b8-bc88-177e96e88e68",
   "metadata": {},
   "outputs": [
    {
     "name": "stdout",
     "output_type": "stream",
     "text": [
      "0    10\n",
      "1    20\n",
      "dtype: int64\n"
     ]
    }
   ],
   "source": [
    "s = pd.Series([10,20,30,40,50,60])\n",
    "h = s.head(2)\n",
    "print(h)"
   ]
  },
  {
   "cell_type": "code",
   "execution_count": 10,
   "id": "c6ebb047-b34a-4204-be1c-ee96d946d1d7",
   "metadata": {},
   "outputs": [
    {
     "name": "stdout",
     "output_type": "stream",
     "text": [
      "4    50\n",
      "5    60\n",
      "dtype: int64\n"
     ]
    }
   ],
   "source": [
    "t = s.tail(2)\n",
    "print(t)"
   ]
  },
  {
   "cell_type": "code",
   "execution_count": 11,
   "id": "cbb6a874-2461-44ec-bab0-1ec7a4b8d09a",
   "metadata": {},
   "outputs": [
    {
     "name": "stdout",
     "output_type": "stream",
     "text": [
      "6\n",
      "0\n",
      "0\n"
     ]
    }
   ],
   "source": [
    "c = s.count()\n",
    "print(c)\n",
    "d = pd.Series([np.nan, np.nan])\n",
    "c = d.count()\n",
    "print(c)\n",
    "d = pd.Series()\n",
    "c = d.count()\n",
    "print(c)"
   ]
  },
  {
   "cell_type": "code",
   "execution_count": 12,
   "id": "4daa7165-0ac1-4f4a-a472-78f382c22d7c",
   "metadata": {},
   "outputs": [
    {
     "name": "stdout",
     "output_type": "stream",
     "text": [
      "0     6\n",
      "1     8\n",
      "2    10\n",
      "3    12\n",
      "dtype: int64\n",
      "0   -4\n",
      "1   -4\n",
      "2   -4\n",
      "3   -4\n",
      "dtype: int64\n",
      "0     5\n",
      "1    12\n",
      "2    21\n",
      "3    32\n",
      "dtype: int64\n",
      "0    5.000000\n",
      "1    3.000000\n",
      "2    2.333333\n",
      "3    2.000000\n",
      "dtype: float64\n"
     ]
    }
   ],
   "source": [
    "s1 = pd.Series([1,2,3,4])\n",
    "s2 = pd.Series([5,6,7,8])\n",
    "addi = s1+s2\n",
    "print(addi)\n",
    "sub = s1-s2\n",
    "print(sub)\n",
    "mul = s1*s2\n",
    "print(mul)\n",
    "div = s2/s1\n",
    "print(div)"
   ]
  },
  {
   "cell_type": "code",
   "execution_count": 13,
   "id": "cac4215a-74d7-4e34-8d54-3f731c567551",
   "metadata": {},
   "outputs": [
    {
     "name": "stdout",
     "output_type": "stream",
     "text": [
      "Equals:\n",
      "0    False\n",
      "1    False\n",
      "2    False\n",
      "3    False\n",
      "dtype: bool\n",
      "\n",
      "Greater than:\n",
      "0    False\n",
      "1    False\n",
      "2    False\n",
      "3    False\n",
      "dtype: bool\n",
      "\n",
      "Less than:\n",
      "0    True\n",
      "1    True\n",
      "2    True\n",
      "3    True\n",
      "dtype: bool\n"
     ]
    }
   ],
   "source": [
    "s1 = pd.Series([1,2,3,4])\n",
    "s2 = pd.Series([5,6,7,8])\n",
    "print(\"Equals:\", s1==s2, sep=\"\\n\", end=\"\\n\\n\")\n",
    "print(\"Greater than:\", s1>s2, sep=\"\\n\", end=\"\\n\\n\")\n",
    "print(\"Less than:\", s1<s2, sep=\"\\n\")"
   ]
  },
  {
   "cell_type": "code",
   "execution_count": 14,
   "id": "21604169-e289-4a20-9cb0-3d2846b87603",
   "metadata": {},
   "outputs": [
    {
     "name": "stdout",
     "output_type": "stream",
     "text": [
      "          0   1\n",
      "0   Class 9  21\n",
      "1  Class 10  36\n",
      "2  Class 11  48\n",
      "3  Class 12  15\n"
     ]
    }
   ],
   "source": [
    "data = [[\"Class 9\", 21],[\"Class 10\", 36],[\"Class 11\", 48],[\"Class 12\", 15]]\n",
    "df = pd.DataFrame(data)\n",
    "print(df)"
   ]
  }
 ],
 "metadata": {
  "kernelspec": {
   "display_name": "Python 3 (ipykernel)",
   "language": "python",
   "name": "python3"
  },
  "language_info": {
   "codemirror_mode": {
    "name": "ipython",
    "version": 3
   },
   "file_extension": ".py",
   "mimetype": "text/x-python",
   "name": "python",
   "nbconvert_exporter": "python",
   "pygments_lexer": "ipython3",
   "version": "3.12.1"
  }
 },
 "nbformat": 4,
 "nbformat_minor": 5
}
