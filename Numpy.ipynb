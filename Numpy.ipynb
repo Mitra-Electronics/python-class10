{
 "cells": [
  {
   "cell_type": "code",
   "execution_count": 1,
   "id": "c8d140c9-90ba-4c1a-95bc-c06e966bac7e",
   "metadata": {},
   "outputs": [],
   "source": [
    "import numpy as np"
   ]
  },
  {
   "cell_type": "code",
   "execution_count": 2,
   "id": "4e2b1ff5-15b2-44dc-b8d9-0575c2e3eb12",
   "metadata": {},
   "outputs": [
    {
     "name": "stdout",
     "output_type": "stream",
     "text": [
      "20\n",
      "30\n",
      "(array([3]),)\n",
      "(array([3, 4, 5, 6, 7, 8]),)\n"
     ]
    }
   ],
   "source": [
    "ar = np.array([20, 30, 10, 40, 50, 60, 70, 80, 90, 10])\n",
    "i = ar[0]\n",
    "print(i)\n",
    "print(ar[1])\n",
    "print(np.where(ar==40)) # Finds the index of an element\n",
    "print(np.where(ar>=40))"
   ]
  },
  {
   "cell_type": "code",
   "execution_count": 3,
   "id": "0321f4ed-a00c-42f9-a03d-9f9f41e64337",
   "metadata": {},
   "outputs": [
    {
     "name": "stdout",
     "output_type": "stream",
     "text": [
      "2\n",
      "5\n",
      "(array([1]), array([0]))\n",
      "(array([1, 1, 1]), array([0, 1, 2]))\n"
     ]
    }
   ],
   "source": [
    "ar2 = np.array([[2, 1, 3], [4, 6, 5], [9, 8, 7], [10,11,12]])\n",
    "i = ar2[0][0]\n",
    "print(i)\n",
    "print(ar2[1][2])\n",
    "print(np.where(ar2==[4,5,6]))\n",
    "print(np.where(ar2==[4,6,5])) #4 at [1][0], 6 at [1][1], 5 at [1][2]"
   ]
  },
  {
   "cell_type": "code",
   "execution_count": 4,
   "id": "9425b928-08bb-459b-9ee3-0591b7eb4489",
   "metadata": {},
   "outputs": [
    {
     "name": "stdout",
     "output_type": "stream",
     "text": [
      "[10 10 20 30 40 50 60 70 80 90]\n",
      "[[ 1  2  3]\n",
      " [ 4  5  6]\n",
      " [ 7  8  9]\n",
      " [10 11 12]]\n"
     ]
    }
   ],
   "source": [
    "arso = np.sort(ar)\n",
    "print(arso)\n",
    "ar2so = np.sort(ar2)\n",
    "print(ar2so)"
   ]
  },
  {
   "cell_type": "code",
   "execution_count": 5,
   "id": "47d15f3f-15bb-4322-a6b6-a55446f9dbeb",
   "metadata": {},
   "outputs": [
    {
     "name": "stdout",
     "output_type": "stream",
     "text": [
      "[20 30 10 40 50]\n",
      "[[ 9  8  7]\n",
      " [10 11 12]]\n",
      "[[ 6  5]\n",
      " [ 8  7]\n",
      " [11 12]]\n"
     ]
    }
   ],
   "source": [
    "arsl = ar[:5]\n",
    "print(arsl)\n",
    "arsl = ar2[1:][1:]\n",
    "print(arsl)\n",
    "arsl = ar2[1:,1:]\n",
    "print(arsl)"
   ]
  },
  {
   "cell_type": "code",
   "execution_count": 6,
   "id": "b04538bf-8112-4b81-a992-ddfccad43950",
   "metadata": {},
   "outputs": [
    {
     "name": "stdout",
     "output_type": "stream",
     "text": [
      "(10,)\n",
      "(4, 3)\n",
      "[[20 30 10 40 50]\n",
      " [60 70 80 90 10]]\n",
      "[[ 2  1  3  4]\n",
      " [ 6  5  9  8]\n",
      " [ 7 10 11 12]]\n"
     ]
    }
   ],
   "source": [
    "print(ar.shape)\n",
    "print(ar2.shape)\n",
    "r_ar = ar.reshape(2,5) #.reshape(a, b) a = No of subarrays, b = No of elements in each array\n",
    "print(r_ar)\n",
    "r_ar2 = ar2.reshape(3,4)\n",
    "print(r_ar2)"
   ]
  },
  {
   "cell_type": "code",
   "execution_count": 7,
   "id": "46487c8e-5d16-4863-989a-abd03f5877c3",
   "metadata": {},
   "outputs": [
    {
     "name": "stdout",
     "output_type": "stream",
     "text": [
      "[ 20  30  10  40  50  60  70  80  90  10 100 110 120]\n",
      "[array([20, 30]), array([10, 40]), array([50, 60]), array([70, 80]), array([90, 10])]\n"
     ]
    }
   ],
   "source": [
    "ar_j = [100, 110, 120]\n",
    "j_ar = np.concatenate((ar,ar_j))\n",
    "print(j_ar)\n",
    "s_ar = np.array_split(ar, 5)\n",
    "print(s_ar)"
   ]
  },
  {
   "cell_type": "code",
   "execution_count": 8,
   "id": "b91274f1-b4b5-4df8-a5a0-53df78cff27d",
   "metadata": {},
   "outputs": [
    {
     "name": "stdout",
     "output_type": "stream",
     "text": [
      "Mean 46.0\n",
      "Median 45.0\n",
      "Mode ModeResult(mode=np.int64(10), count=np.int64(2))\n"
     ]
    }
   ],
   "source": [
    "from scipy import stats\n",
    "mn = np.mean(ar)\n",
    "med = np.median(ar)\n",
    "mode = stats.mode(ar)\n",
    "print(\"Mean\", mn)\n",
    "print(\"Median\", med)\n",
    "print(\"Mode\", mode)"
   ]
  },
  {
   "cell_type": "code",
   "execution_count": 9,
   "id": "8ab01c58-d151-4f9f-8c59-310341b25cfb",
   "metadata": {},
   "outputs": [
    {
     "name": "stdout",
     "output_type": "stream",
     "text": [
      "20\n",
      "30\n",
      "10\n",
      "40\n",
      "50\n",
      "60\n",
      "70\n",
      "80\n",
      "90\n",
      "10\n"
     ]
    }
   ],
   "source": [
    "for i in ar:\n",
    "    print(i)"
   ]
  },
  {
   "cell_type": "code",
   "execution_count": 10,
   "id": "c39b5f82-de8f-43b6-803e-255660485c65",
   "metadata": {},
   "outputs": [
    {
     "name": "stdout",
     "output_type": "stream",
     "text": [
      "2\n",
      "1\n",
      "3\n",
      "4\n",
      "6\n",
      "5\n",
      "9\n",
      "8\n",
      "7\n",
      "10\n",
      "11\n",
      "12\n"
     ]
    }
   ],
   "source": [
    "for i in ar2:\n",
    "    for j in i:\n",
    "        print(j)"
   ]
  },
  {
   "cell_type": "code",
   "execution_count": null,
   "id": "957acc3a-6c2d-4be5-b314-6ca26996b460",
   "metadata": {},
   "outputs": [],
   "source": []
  }
 ],
 "metadata": {
  "kernelspec": {
   "display_name": "Python 3 (ipykernel)",
   "language": "python",
   "name": "python3"
  },
  "language_info": {
   "codemirror_mode": {
    "name": "ipython",
    "version": 3
   },
   "file_extension": ".py",
   "mimetype": "text/x-python",
   "name": "python",
   "nbconvert_exporter": "python",
   "pygments_lexer": "ipython3",
   "version": "3.12.1"
  }
 },
 "nbformat": 4,
 "nbformat_minor": 5
}
